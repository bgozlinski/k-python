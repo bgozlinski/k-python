{
 "cells": [
  {
   "cell_type": "code",
   "execution_count": 12,
   "id": "d8d40074",
   "metadata": {},
   "outputs": [],
   "source": [
    "x = 10"
   ]
  },
  {
   "cell_type": "code",
   "execution_count": 16,
   "id": "72ddf50d",
   "metadata": {},
   "outputs": [],
   "source": [
    "x = 1 # koment\n",
    "# esc by wyjsc z trybu polecen\n"
   ]
  },
  {
   "cell_type": "code",
   "execution_count": 17,
   "id": "032aca35",
   "metadata": {},
   "outputs": [
    {
     "name": "stdout",
     "output_type": "stream",
     "text": [
      "1\n"
     ]
    }
   ],
   "source": [
    "print(x)"
   ]
  },
  {
   "cell_type": "markdown",
   "id": "ab521c38",
   "metadata": {},
   "source": [
    "# JUPYTER NOTEBOOK\n",
    "## poruszanie się\n",
    "\n",
    "strzałki - góra dół\n",
    "\n",
    "## tryby\n",
    "\n",
    "* edycja (Enter)\n",
    "* polecenie (esc)\n",
    "* usuń (D,D)\n",
    "* cofnij usunięcie (Z)\n",
    "\n",
    "\n",
    "## typy komórek\n",
    "\n",
    "* code (y)\n",
    "* markdown (m)\n",
    "\n",
    "## wykonywanie komórek\n",
    "\n",
    "* shift + Enter - wykonuje i przechodzi do kolejnej komórki\n",
    "* alt + Enter (option + Enter) wykonmuje i dodaje pod spodem komórke\n",
    "\n",
    "* ctrl + Enter - wykonuje komorke w miejscu\n",
    "\n",
    "## Markdown\n",
    "\n",
    "### tabelka\n",
    "\n",
    "| Id | Label    | Price |\n",
    "|--- |----------| ------|\n",
    "| 01 | Markdown |\\$1600 |\n",
    "| 02 | is       |  \\$12 |\n",
    "| 03 | AWESOME  | \\$999 |\n",
    "\n",
    "\n",
    "### równania matematyczne (Tex - LaTex)\n",
    "\n",
    "Euler's identity: $ e^{i \\pi} + 1 = 0 \n",
    "\n",
    "To isolate and center the formulas and enter in math display mode, we use 2 dollars symbol:\n",
    "$$\n",
    "...\n",
    "$$\n",
    "\n",
    "Euler's identity: $$ e^{i \\pi} + 1 = 0 $$"
   ]
  }
 ],
 "metadata": {
  "kernelspec": {
   "display_name": "Python 3 (ipykernel)",
   "language": "python",
   "name": "python3"
  },
  "language_info": {
   "codemirror_mode": {
    "name": "ipython",
    "version": 3
   },
   "file_extension": ".py",
   "mimetype": "text/x-python",
   "name": "python",
   "nbconvert_exporter": "python",
   "pygments_lexer": "ipython3",
   "version": "3.10.5"
  }
 },
 "nbformat": 4,
 "nbformat_minor": 5
}
